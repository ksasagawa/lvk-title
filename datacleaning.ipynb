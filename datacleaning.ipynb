{
 "cells": [
  {
   "cell_type": "code",
   "execution_count": 15,
   "metadata": {},
   "outputs": [
    {
     "name": "stdout",
     "output_type": "stream",
     "text": [
      "['BERSERK GORILLA came into MY HOUSE and PEED EVERYWHERE so I called my MOM and she TOLD HIM OFF', 'DYSTOPIA THE DESPONDENT banishes ME and my PLANTS', \"MARSHMALLON ABSOLUTELY CLEARS (DON'T look at the BOARD)\", 'SANTA CLAWS coming DOWN my CHIMNEY HANDING ME CARDS??', 'A man and his magician friend walk into a secret village (Hilarity ensues)', 'The Pharaoh is RECRUITING new WAR CRIMINIALS', 'Naturia Exterio = Hydrogen Bomb', 'I saw LONEFIRE BLOSSOM and was sent to the GARDEN??', 'SAMURAI DESTROYER throws ME into the INFINITE VOID', 'LAVA GOLEM took my WIFE and the KIDS!!!', 'Do NOT let Aluber do your TAXES!! Worst mistake of my LIFE', \"You're stuck in sub replay friday. FOREVER!!!!!!!\", 'I have been taught how to truly RP as Jesse Anderson', 'I opened master duel and these WARRIORS enlisted me on an ADVENTURE', 'I stepped on a trap and found DUMMY GOLEM UNDERNEATH AUUUUGHGHH', \"I've been put in the KOA'KI MEIRU TORNADO and they won't let me ESCAPE\", \"I'm going to the crazy house and Zany zebra is my roommate\", 'My subscribers COULD solve world hunger! Instead they combo.', 'You can do WHAT with MASTER PLAN??', 'BIG BENKEI absolutely SLAMMING the opponent', 'Another MENACE of a game that BROKE my BRAIN', 'ALT WIN CON AGAIN?? My subscribers deal PSYCHIC damage TO MY BRAIN', \"Blackwing RAIDRAPTOR got HANDS?? (Ignore the opponent's board)\", 'I was promised a NORMAL drytron game! (BAITED)', 'The LUCKIEST duelists EVER MY GOD', 'One of THE DUELS OF ALL TIME! ACTUALLY INSANE', 'I got (mentally) HIT by the TIME MAGIC HAMMER??', 'My subscribers BET on a MATCH and THIS HAPPENED??', 'Duelist A SURPRISING me with UTOPIA??', 'DRAGUNITY can do ALL THIS and MORE??', 'These MATCHES were WAY too SCARY!! Ah! OOH! OOGA BOOGA BOOGA!!!', 'I unironically LOVE UMI CONTROL!!!', 'I cannot BELIEVE my subscribers MADE ME watch THIS GAME!!!', 'The amount of CHAIN LINKS in this video BROKE MY BRAIN', 'Summoning DEMISE should give you a BADGE of HONOR', 'UTOPIC DRACO FUTURE got that DAWG in HIM!!!', 'Can I take KING TIGER WANGHU in a FIGHT IRL?? (NO)', 'These players are FLIPPING their SET CARDS?? (DO NOT LOOK AT THE BOARD STATE)', 'BATTYERMAN INDUSTRIAL STRENGTH absolutely MANHANDLES the OPPONENT', \"I'm going to PERISH in the JOWLS of DARK DEMISE because of this GAME\", 'CENTERFROG doing that YOINKY SPLOINKY', 'MOULINGLACIA has TEXT on it??', 'ALT WIN CON ANIMATION??', 'Another SUPER normal VW game I PROMISE', 'These RANDOM players are INSANE at BRICKING', 'Destiny HERO more like Destiny ZERO', 'UHH WHAT KIND OF DUSTON??', \"DYNATAG YOU'RE IT\", 'STARDUST please PROTECT ME', 'Summoning KRISTYA with a BOX of SCRAPS', 'NECROFACE summoned by DUELIST B??', 'GATE GUARDIAN and GHOST BEEF??', 'The MASKED BEAST will ERADICATE its opponents!!', 'These Duelists use SCRAP IRON SCARECROW??', 'Red-Eyes Black Dragon can do WHAT???', 'My subs SPEED through MAXX C??', 'These DUELISTS are INVITING us to this HEINOUS duel!!', 'RAVIEL GAMING', 'SURELY this virtual world combo will make sense!!', 'This duelist lets MORPHING JAR #2 do the talking!!', 'WEAKEST POTE PULL', \"My subscribers learn the way of ODIN'S BEARD!!\", 'RANDOM duelist FLIPPING monsters??', 'SODA!!!!!', 'My subscribers BULLY people on MASTERDUEL!!!', \"Random duelistfs INSANE swordsoul tech (It's SO BAD)\", 'WEAKEST PACK OPENING', 'GORZ Coming back HOME just for my SUBSCRIBERS!! (This includes @DistantCoder POG)', \"BLUE EYES can TOTALLY beat UTOPIA! (I'm LYING on the internet!!!)\", 'MINOR SPELLING ERROR!! I WIN', 'Soldier dragons are JUST like my subscribers: CRACKED', 'FLUNDER DUNDER?? These birds will haunt me for the rest of my days', \"OF COURSE IT'S MYSTIC MINE\", \"EARTHBOUND IMMORTAL FTK??? At this point, I'm just calling it Beatrice turbo\", \"CHARMERS?? IN MY DUEL LIVE?? This isn't even the craziest thing in this video\", 'MONKI FLIP', 'GADGET GAMING AND DESPAIR REPLAYS', 'TOONS ARE BETTER THAN SWORDSOUL (IN GOLD)', 'Just one game', 'WICKED AVATAR IS A VIRTUAL WORLD CARD I SWEAR', 'IGNISTER MIRROR? CHAINSAW INSECT? SOMEONE HELP!!!!', 'Pick up', 'DESTROYED BY VOID OGRE DRAGON??', 'Elemental HERO NEOS SAVES THE DAY', 'A CHANCE', 'MY SUBS ACTIVATE EXODIA??', 'Prank TENYI VS Limit ONE Structure?? I am losing my mind', 'Infernoid GAMING', 'KONAMI Sent me a prize?!', 'SIGMA ON SIGMA MALE VIOLENCE', 'Chaos Creator Aleister?? My subscribers continue to push the limit!!', 'The FATTEST Royal Tribute', 'This duel live was INSANE (WATCH UNTIL THE END!!!)', \"MASTER DUEL'S FIRST BANLIST IS WASTED POTENTIAL\", 'I actually had fun during the synchro festival???', \"MBT'S FLOWER CARDIAN COMBO\", 'My Subscribers are BASED', 'GOLD GAMING', 'PLAT 2 TO PLAT 1 SPEEDRUN ANY%', 'Normal Summon Aleister? No.', 'GIANT GERM??', 'The Ra Puzzle', 'MBT asks me a question', 'My Thoughts On TCG', 'Nibiru this.', 'WIGHTS AND FAIRIES AND KOZMOS OH MY', \"Imperial Order isn't real\", 'YUGI VS KAIBA', 'Insane Dark Hole', 'This is a very grave game for MBT', 'CAT SHARK GAMING', 'Based Eldlich player?!', 'Reacting to Auction Series', 'Surely this is a good Solemn Judgment', 'Yu-Gi-Oh Master Duel ICON Tier List!!', 'MBT gets SCHWASTED by my Tri-Brigade Zoo Deck', 'Betting on RANDOM Spectate LIVE duels on Master Duel']\n"
     ]
    }
   ],
   "source": [
    "import pandas as pd\n",
    "title_list = pd.read_csv('titles.csv',encoding_errors='ignore',delimiter=';').columns.to_list()\n",
    "\n",
    "title_list = title_list[:-3]\n",
    "try:\n",
    "    title_list = title_list.remove('PUNK THERION TOP 16 GREEK NATIONALS | Charalampos Chatzistavrou Deck Profile + In Depth Look')\n",
    "except:\n",
    "    pass\n",
    "\n",
    "titles_cleaned = []\n",
    "for title in title_list:\n",
    "    rm = title.split('|')[0].strip()\n",
    "    titles_cleaned.append(rm)\n",
    "\n",
    "print(titles_cleaned)\n",
    "with open('cleaned.txt','w') as f:\n",
    "    for t in titles_cleaned:\n",
    "        try:\n",
    "            if(t != titles_cleaned[:-1]):\n",
    "                f.write(t+\";\")\n",
    "            else:\n",
    "                f.write(t)\n",
    "        except:\n",
    "            continue"
   ]
  },
  {
   "cell_type": "code",
   "execution_count": 3,
   "metadata": {},
   "outputs": [],
   "source": [
    "import requests\n",
    "import pandas as pd\n",
    "\n",
    "url = 'https://db.ygoprodeck.com/api/v7/cardinfo.php'\n",
    "html = requests.get(url)\n",
    "cards = pd.read_json(html.text)\n",
    "cards = cards['data']\n",
    "cardnames = []\n",
    "for card in cards:\n",
    "    cardnames.append(card['name'])\n",
    "\n",
    "with open('card_names.txt','w') as f:\n",
    "    for t in cardnames:\n",
    "        try:\n",
    "            f.write(t+\";\")\n",
    "        except:\n",
    "            continue"
   ]
  },
  {
   "cell_type": "code",
   "execution_count": 18,
   "metadata": {},
   "outputs": [],
   "source": [
    "import requests\n",
    "import pandas as pd\n",
    "\n",
    "url = 'https://db.ygoprodeck.com/api/v7/archetypes.php'\n",
    "html = requests.get(url)\n",
    "cards = pd.read_json(html.text)\n",
    "\n",
    "cardnames = []\n",
    "for card in cards['archetype_name']:\n",
    "    cardnames.append(card)\n",
    "\n",
    "with open('card_archtypes.txt','w') as f:\n",
    "    for t in cardnames:\n",
    "        try:\n",
    "            f.write(t+\"\\n\")\n",
    "        except:\n",
    "            continue"
   ]
  },
  {
   "cell_type": "code",
   "execution_count": 14,
   "metadata": {},
   "outputs": [
    {
     "name": "stdout",
     "output_type": "stream",
     "text": [
      "[\"BERSERK GORILLA came into MY HOUSE and PEED EVERYWHERE so I called my MOM and she TOLD HIM OFF\\nDYSTOPIA THE DESPONDENT banishes ME and my PLANTS\\nMARSHMALLON ABSOLUTELY CLEARS (DON'T look at the BOARD)\\nSANTA CLAWS coming DOWN my CHIMNEY HANDING ME CARDS??\\nA man and his magician friend walk into a secret village (Hilarity ensues)\\nThe Pharaoh is RECRUITING new WAR CRIMINIALS\\nNaturia Exterio = Hydrogen Bomb\\nI saw LONEFIRE BLOSSOM and was sent to the GARDEN??\\nSAMURAI DESTROYER throws ME into the INFINITE VOID\\nLAVA GOLEM took my WIFE and the KIDS!!!\\nDo NOT let Aluber do your TAXES!! Worst mistake of my LIFE\\nYou're stuck in sub replay friday. FOREVER!!!!!!!\\nI have been taught how to truly RP as Jesse Anderson\\nI opened master duel and these WARRIORS enlisted me on an ADVENTURE\\nI stepped on a trap and found DUMMY GOLEM UNDERNEATH AUUUUGHGHH\\nI've been put in the KOA'KI MEIRU TORNADO and they won't let me ESCAPE\\nI'm going to the crazy house and Zany zebra is my roommate\\nMy subscribers COULD solve world hunger! Instead they combo.\\nYou can do WHAT with MASTER PLAN??\\nBIG BENKEI absolutely SLAMMING the opponent\\nAnother MENACE of a game that BROKE my BRAIN\\nALT WIN CON AGAIN?? My subscribers deal PSYCHIC damage TO MY BRAIN\\nBlackwing RAIDRAPTOR got HANDS?? (Ignore the opponent's board)\\nI was promised a NORMAL drytron game! (BAITED)\\nThe LUCKIEST duelists EVER MY GOD\\nOne of THE DUELS OF ALL TIME! ACTUALLY INSANE\\nI got (mentally) HIT by the TIME MAGIC HAMMER??\\nMy subscribers BET on a MATCH and THIS HAPPENED??\\nDuelist A SURPRISING me with UTOPIA??\\nDRAGUNITY can do ALL THIS and MORE??\\nThese MATCHES were WAY too SCARY!! Ah! OOH! OOGA BOOGA BOOGA!!!\\nI unironically LOVE UMI CONTROL!!!\\nI cannot BELIEVE my subscribers MADE ME watch THIS GAME!!!\\nThe amount of CHAIN LINKS in this video BROKE MY BRAIN\\nSummoning DEMISE should give you a BADGE of HONOR\\nUTOPIC DRACO FUTURE got that DAWG in HIM!!!\\nCan I take KING TIGER WANGHU in a FIGHT IRL?? (NO)\\nThese players are FLIPPING their SET CARDS?? (DO NOT LOOK AT THE BOARD STATE)\\nBATTYERMAN INDUSTRIAL STRENGTH absolutely MANHANDLES the OPPONENT\\nI'm going to PERISH in the JOWLS of DARK DEMISE because of this GAME\\nCENTERFROG doing that YOINKY SPLOINKY\\nMOULINGLACIA has TEXT on it??\\nALT WIN CON ANIMATION??\\nAnother SUPER normal VW game I PROMISE\\nThese RANDOM players are INSANE at BRICKING\\nDestiny HERO more like Destiny ZERO\\nUHH WHAT KIND OF DUSTON??\\nDYNATAG YOU'RE IT\\nSTARDUST please PROTECT ME\\nSummoning KRISTYA with a BOX of SCRAPS\\nNECROFACE summoned by DUELIST B??\\nGATE GUARDIAN and GHOST BEEF??\\nThe MASKED BEAST will ERADICATE its opponents!!\\nThese Duelists use SCRAP IRON SCARECROW??\\nRed-Eyes Black Dragon can do WHAT???\\nMy subs SPEED through MAXX C??\\nThese DUELISTS are INVITING us to this HEINOUS duel!!\\nRAVIEL GAMING\\nSURELY this virtual world combo will make sense!!\\nThis duelist lets MORPHING JAR #2 do the talking!!\\nWEAKEST POTE PULL\\nMy subscribers learn the way of ODIN'S BEARD!!\\nRANDOM duelist FLIPPING monsters??\\nSODA!!!!!\\nMy subscribers BULLY people on MASTERDUEL!!!\\nRandom duelistfs INSANE swordsoul tech (It's SO BAD)\\nWEAKEST PACK OPENING\\nGORZ Coming back HOME just for my SUBSCRIBERS!! (This includes @DistantCoder POG)\\nBLUE EYES can TOTALLY beat UTOPIA! (I'm LYING on the internet!!!)\\nMINOR SPELLING ERROR!! I WIN\\nSoldier dragons are JUST like my subscribers: CRACKED\\nFLUNDER DUNDER?? These birds will haunt me for the rest of my days\\nOF COURSE IT'S MYSTIC MINE\\nEARTHBOUND IMMORTAL FTK??? At this point, I'm just calling it Beatrice turbo\\nCHARMERS?? IN MY DUEL LIVE?? This isn't even the craziest thing in this video\\nMONKI FLIP\\nGADGET GAMING AND DESPAIR REPLAYS\\nTOONS ARE BETTER THAN SWORDSOUL (IN GOLD)\\nJust one game\\nWICKED AVATAR IS A VIRTUAL WORLD CARD I SWEAR\\nIGNISTER MIRROR? CHAINSAW INSECT? SOMEONE HELP!!!!\\nPick up\\nDESTROYED BY VOID OGRE DRAGON??\\nElemental HERO NEOS SAVES THE DAY\\nA CHANCE\\nMY SUBS ACTIVATE EXODIA??\\nPrank TENYI VS Limit ONE Structure?? I am losing my mind\\nInfernoid GAMING\\nKONAMI Sent me a prize?!\\nSIGMA ON SIGMA MALE VIOLENCE\\nChaos Creator Aleister?? My subscribers continue to push the limit!!\\nThe FATTEST Royal Tribute\\nThis duel live was INSANE (WATCH UNTIL THE END!!!)\\nMASTER DUEL'S FIRST BANLIST IS WASTED POTENTIAL\\nI actually had fun during the synchro festival???\\nMBT'S FLOWER CARDIAN COMBO\\nMy Subscribers are BASED\\nGOLD GAMING\\nPLAT 2 TO PLAT 1 SPEEDRUN ANY%\\nNormal Summon Aleister? No.\\nGIANT GERM??\\nThe Ra Puzzle\\nMBT asks me a question\\nMy Thoughts On TCG\\nNibiru this.\\nWIGHTS AND FAIRIES AND KOZMOS OH MY\\nImperial Order isn't real\\nYUGI VS KAIBA\\nInsane Dark Hole\\nThis is a very grave game for MBT\\nCAT SHARK GAMING\\nBased Eldlich player?!\\nReacting to Auction Series\\nSurely this is a good Solemn Judgment\\nYu-Gi-Oh Master Duel ICON Tier List!!\\nMBT gets SCHWASTED by my Tri-Brigade Zoo Deck\\nBetting on RANDOM Spectate LIVE duels on Master Duel\"]\n"
     ]
    }
   ],
   "source": [
    "with open('cleaned.txt','r') as f:\n",
    "    print(f.read().split(\";\"))"
   ]
  },
  {
   "cell_type": "code",
   "execution_count": 9,
   "metadata": {},
   "outputs": [],
   "source": [
    "with open('card_names.txt','r') as f:\n",
    "    text = f.read().split(\";\")\n",
    "\n",
    "text"
   ]
  },
  {
   "cell_type": "code",
   "execution_count": null,
   "metadata": {},
   "outputs": [],
   "source": [
    "import string\n",
    "for i, word in enumerate(text):\n",
    "    word = word.translate(str.maketrans('', '', string.punctuation))\n",
    "    word = word.translate(str.maketrans('', '', '01234567989'))\n",
    "    word = ' '.join( [w for w in word.split() if len(w)>1] )\n",
    "    word = word.strip()\n",
    "    text[i] = word\n",
    "\n",
    "\n",
    "print(list(filter(None,text)))\n",
    "\n",
    "with open('card_names.txt','w') as f:\n",
    "    for t in text:\n",
    "        try:\n",
    "            f.write(t+\";\")\n",
    "        except:\n",
    "            continue"
   ]
  },
  {
   "cell_type": "code",
   "execution_count": 29,
   "metadata": {},
   "outputs": [
    {
     "data": {
      "text/plain": [
       "12375"
      ]
     },
     "execution_count": 29,
     "metadata": {},
     "output_type": "execute_result"
    }
   ],
   "source": [
    "len(text)"
   ]
  },
  {
   "cell_type": "code",
   "execution_count": 13,
   "metadata": {},
   "outputs": [],
   "source": [
    "import pandas as pd\n",
    "\n",
    "df1 = pd.read_csv('archive/USvideos.csv')\n",
    "df2 = pd.read_csv('archive/GBvideos.csv')\n",
    "df3 = pd.read_csv('archive/CAvideos.csv')\n",
    "df = df1.merge(df2['title']).merge(df3['title'])\n",
    "df = df['title'].drop_duplicates()\n",
    "title_lst = list(df)\n",
    "title_lst\n",
    "\n",
    "with open('data2.txt','w') as f:\n",
    "    for t in title_lst:\n",
    "        try:\n",
    "            f.write(t+\";\")\n",
    "        except:\n",
    "            continue"
   ]
  }
 ],
 "metadata": {
  "kernelspec": {
   "display_name": "Python 3",
   "language": "python",
   "name": "python3"
  },
  "language_info": {
   "codemirror_mode": {
    "name": "ipython",
    "version": 3
   },
   "file_extension": ".py",
   "mimetype": "text/x-python",
   "name": "python",
   "nbconvert_exporter": "python",
   "pygments_lexer": "ipython3",
   "version": "3.10.9"
  },
  "orig_nbformat": 4,
  "vscode": {
   "interpreter": {
    "hash": "005e11eba30c80e22adeab92f9a64f1a9a94911f1b1203e97178a0286c164076"
   }
  }
 },
 "nbformat": 4,
 "nbformat_minor": 2
}
