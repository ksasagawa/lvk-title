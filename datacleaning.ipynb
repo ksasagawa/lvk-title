{
 "cells": [
  {
   "cell_type": "code",
   "execution_count": null,
   "metadata": {},
   "outputs": [],
   "source": [
    "import pandas as pd\n",
    "title_list = pd.read_csv('titles.csv',encoding_errors='ignore',delimiter=';').columns.to_list()\n",
    "\n",
    "title_list = title_list[:-3]\n",
    "try:\n",
    "    title_list = title_list.remove('PUNK THERION TOP 16 GREEK NATIONALS | Charalampos Chatzistavrou Deck Profile + In Depth Look')\n",
    "except:\n",
    "    pass\n",
    "\n",
    "titles_cleaned = []\n",
    "for title in title_list:\n",
    "    rm = title.split('|')[0].strip()\n",
    "    titles_cleaned.append(rm)\n",
    "\n",
    "print(titles_cleaned)\n",
    "with open('cleaned.txt','w') as f:\n",
    "    for t in titles_cleaned:\n",
    "        try:\n",
    "            if(t != titles_cleaned[:-1]):\n",
    "                f.write(t+\"\\n\")\n",
    "            else:\n",
    "                f.write(t)\n",
    "        except:\n",
    "            continue"
   ]
  },
  {
   "cell_type": "code",
   "execution_count": 1,
   "metadata": {},
   "outputs": [],
   "source": [
    "import requests\n",
    "import pandas as pd\n",
    "\n",
    "url = 'https://db.ygoprodeck.com/api/v7/cardinfo.php'\n",
    "html = requests.get(url)\n",
    "cards = pd.read_json(html.text)\n",
    "cards = cards['data']\n",
    "cardnames = []\n",
    "for card in cards:\n",
    "    cardnames.append(card['name'])\n",
    "\n",
    "with open('card_names.txt','w') as f:\n",
    "    for t in cardnames:\n",
    "        try:\n",
    "            f.write(t+\"\\n\")\n",
    "        except:\n",
    "            continue"
   ]
  },
  {
   "cell_type": "code",
   "execution_count": 18,
   "metadata": {},
   "outputs": [],
   "source": [
    "import requests\n",
    "import pandas as pd\n",
    "\n",
    "url = 'https://db.ygoprodeck.com/api/v7/archetypes.php'\n",
    "html = requests.get(url)\n",
    "cards = pd.read_json(html.text)\n",
    "\n",
    "cardnames = []\n",
    "for card in cards['archetype_name']:\n",
    "    cardnames.append(card)\n",
    "\n",
    "with open('card_archtypes.txt','w') as f:\n",
    "    for t in cardnames:\n",
    "        try:\n",
    "            f.write(t+\"\\n\")\n",
    "        except:\n",
    "            continue"
   ]
  },
  {
   "cell_type": "code",
   "execution_count": 8,
   "metadata": {},
   "outputs": [
    {
     "name": "stdout",
     "output_type": "stream",
     "text": [
      "['BERSERK GORILLA came into MY HOUSE and PEED EVERYWHERE so I called my MOM and she TOLD HIM OFF', 'DYSTOPIA THE DESPONDENT banishes ME and my PLANTS', \"MARSHMALLON ABSOLUTELY CLEARS (DON'T look at the BOARD)\", 'SANTA CLAWS coming DOWN my CHIMNEY HANDING ME CARDS??', 'A man and his magician friend walk into a secret village (Hilarity ensues)', 'The Pharaoh is RECRUITING new WAR CRIMINIALS', 'Naturia Exterio = Hydrogen Bomb', 'I saw LONEFIRE BLOSSOM and was sent to the GARDEN??', 'SAMURAI DESTROYER throws ME into the INFINITE VOID', 'LAVA GOLEM took my WIFE and the KIDS!!!', 'Do NOT let Aluber do your TAXES!! Worst mistake of my LIFE', \"You're stuck in sub replay friday. FOREVER!!!!!!!\", 'I have been taught how to truly RP as Jesse Anderson', 'I opened master duel and these WARRIORS enlisted me on an ADVENTURE', 'I stepped on a trap and found DUMMY GOLEM UNDERNEATH AUUUUGHGHH', \"I've been put in the KOA'KI MEIRU TORNADO and they won't let me ESCAPE\", \"I'm going to the crazy house and Zany zebra is my roommate\", 'My subscribers COULD solve world hunger! Instead they combo.', 'You can do WHAT with MASTER PLAN??', 'BIG BENKEI absolutely SLAMMING the opponent', 'Another MENACE of a game that BROKE my BRAIN', 'ALT WIN CON AGAIN?? My subscribers deal PSYCHIC damage TO MY BRAIN', \"Blackwing RAIDRAPTOR got HANDS?? (Ignore the opponent's board)\", 'I was promised a NORMAL drytron game! (BAITED)', 'The LUCKIEST duelists EVER MY GOD', 'One of THE DUELS OF ALL TIME! ACTUALLY INSANE', 'I got (mentally) HIT by the TIME MAGIC HAMMER??', 'My subscribers BET on a MATCH and THIS HAPPENED??', 'Duelist A SURPRISING me with UTOPIA??', 'DRAGUNITY can do ALL THIS and MORE??', 'These MATCHES were WAY too SCARY!! Ah! OOH! OOGA BOOGA BOOGA!!!', 'I unironically LOVE UMI CONTROL!!!', 'I cannot BELIEVE my subscribers MADE ME watch THIS GAME!!!', 'The amount of CHAIN LINKS in this video BROKE MY BRAIN', 'Summoning DEMISE should give you a BADGE of HONOR', 'UTOPIC DRACO FUTURE got that DAWG in HIM!!!', 'Can I take KING TIGER WANGHU in a FIGHT IRL?? (NO)', 'These players are FLIPPING their SET CARDS?? (DO NOT LOOK AT THE BOARD STATE)', 'BATTYERMAN INDUSTRIAL STRENGTH absolutely MANHANDLES the OPPONENT', \"I'm going to PERISH in the JOWLS of DARK DEMISE because of this GAME\", 'CENTERFROG doing that YOINKY SPLOINKY', 'MOULINGLACIA has TEXT on it??', 'ALT WIN CON ANIMATION??', 'Another SUPER normal VW game I PROMISE', 'These RANDOM players are INSANE at BRICKING', 'Destiny HERO more like Destiny ZERO', 'UHH WHAT KIND OF DUSTON??', \"DYNATAG YOU'RE IT\", 'STARDUST please PROTECT ME', 'Summoning KRISTYA with a BOX of SCRAPS', 'NECROFACE summoned by DUELIST B??', 'GATE GUARDIAN and GHOST BEEF??', 'The MASKED BEAST will ERADICATE its opponents!!', 'These Duelists use SCRAP IRON SCARECROW??', 'Red-Eyes Black Dragon can do WHAT???', 'My subs SPEED through MAXX C??', 'These DUELISTS are INVITING us to this HEINOUS duel!!', 'RAVIEL GAMING', 'SURELY this virtual world combo will make sense!!', 'This duelist lets MORPHING JAR #2 do the talking!!', 'WEAKEST POTE PULL', \"My subscribers learn the way of ODIN'S BEARD!!\", 'RANDOM duelist FLIPPING monsters??', 'SODA!!!!!', 'My subscribers BULLY people on MASTERDUEL!!!', \"Random duelistfs INSANE swordsoul tech (It's SO BAD)\", 'WEAKEST PACK OPENING', 'GORZ Coming back HOME just for my SUBSCRIBERS!! (This includes @DistantCoder POG)', \"BLUE EYES can TOTALLY beat UTOPIA! (I'm LYING on the internet!!!)\", 'MINOR SPELLING ERROR!! I WIN', 'Soldier dragons are JUST like my subscribers: CRACKED', 'FLUNDER DUNDER?? These birds will haunt me for the rest of my days', \"OF COURSE IT'S MYSTIC MINE\", \"EARTHBOUND IMMORTAL FTK??? At this point, I'm just calling it Beatrice turbo\", \"CHARMERS?? IN MY DUEL LIVE?? This isn't even the craziest thing in this video\", 'MONKI FLIP', 'GADGET GAMING AND DESPAIR REPLAYS', 'TOONS ARE BETTER THAN SWORDSOUL (IN GOLD)', 'Just one game', 'WICKED AVATAR IS A VIRTUAL WORLD CARD I SWEAR', 'IGNISTER MIRROR? CHAINSAW INSECT? SOMEONE HELP!!!!', 'Pick up', 'DESTROYED BY VOID OGRE DRAGON??', 'Elemental HERO NEOS SAVES THE DAY', 'A CHANCE', 'MY SUBS ACTIVATE EXODIA??', 'Prank TENYI VS Limit ONE Structure?? I am losing my mind', 'Infernoid GAMING', 'KONAMI Sent me a prize?!', 'SIGMA ON SIGMA MALE VIOLENCE', 'Chaos Creator Aleister?? My subscribers continue to push the limit!!', 'The FATTEST Royal Tribute', 'This duel live was INSANE (WATCH UNTIL THE END!!!)', \"MASTER DUEL'S FIRST BANLIST IS WASTED POTENTIAL\", 'I actually had fun during the synchro festival???', \"MBT'S FLOWER CARDIAN COMBO\", 'My Subscribers are BASED', 'GOLD GAMING', 'PLAT 2 TO PLAT 1 SPEEDRUN ANY%', 'Normal Summon Aleister? No.', 'GIANT GERM??', 'The Ra Puzzle', 'MBT asks me a question', 'My Thoughts On TCG', 'Nibiru this.', 'WIGHTS AND FAIRIES AND KOZMOS OH MY', \"Imperial Order isn't real\", 'YUGI VS KAIBA', 'Insane Dark Hole', 'This is a very grave game for MBT', 'CAT SHARK GAMING', 'Based Eldlich player?!', 'Reacting to Auction Series', 'Surely this is a good Solemn Judgment', 'Yu-Gi-Oh Master Duel ICON Tier List!!', 'MBT gets SCHWASTED by my Tri-Brigade Zoo Deck', 'Betting on RANDOM Spectate LIVE duels on Master Duel']\n"
     ]
    }
   ],
   "source": [
    "with open('cleaned.txt','r') as f:\n",
    "    print(f.read().split(\"\\n\"))"
   ]
  }
 ],
 "metadata": {
  "kernelspec": {
   "display_name": "Python 3",
   "language": "python",
   "name": "python3"
  },
  "language_info": {
   "codemirror_mode": {
    "name": "ipython",
    "version": 3
   },
   "file_extension": ".py",
   "mimetype": "text/x-python",
   "name": "python",
   "nbconvert_exporter": "python",
   "pygments_lexer": "ipython3",
   "version": "3.10.9"
  },
  "orig_nbformat": 4,
  "vscode": {
   "interpreter": {
    "hash": "005e11eba30c80e22adeab92f9a64f1a9a94911f1b1203e97178a0286c164076"
   }
  }
 },
 "nbformat": 4,
 "nbformat_minor": 2
}
